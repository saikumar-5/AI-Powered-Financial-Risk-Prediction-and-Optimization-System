{
 "cells": [
  {
   "cell_type": "code",
   "execution_count": null,
   "metadata": {},
   "outputs": [],
   "source": [
    "import numpy as np\n",
    "import pandas as pd"
   ]
  },
  {
   "cell_type": "code",
   "execution_count": null,
   "metadata": {},
   "outputs": [],
   "source": [
    "import yfinance as yf\n",
    "import time\n",
    "# Initialize the Ticker object for Ujjivan Small Finance Bank\n",
    "stock = yf.Ticker(\"UJJIVANSFB.NS\")\n",
    "\n",
    "# Infinite loop to fetch and display updated data every minute\n",
    "while True:\n",
    "    data = stock.history(period=\"1d\", interval=\"1m\")\n",
    "    print(data.tail())\n",
    "    # Save or process the data (e.g., compute risk metrics)\n",
    "    data.to_csv(\"stock_data.csv\", index=True)\n",
    "    # Wait for 60 seconds before fetching new data\n",
    "    time.sleep(60)"
   ]
  },
  {
   "cell_type": "code",
   "execution_count": null,
   "metadata": {},
   "outputs": [],
   "source": [
    "import yfinance as yf\n",
    "import numpy as np\n",
    "import pandas as pd\n",
    "import time\n",
    "\n",
    "# Initialize the Ticker object\n",
    "stock = yf.Ticker(\"RELIANCE.NS\")\n",
    "\n",
    "# Functions to calculate metrics\n",
    "\n",
    "def calculate_volatility(data):\n",
    "    \"\"\"Calculate volatility (standard deviation of returns).\"\"\"\n",
    "    if len(data) > 1:\n",
    "        price_changes = data['Close'].pct_change().dropna()\n",
    "        volatility = np.std(price_changes) * 100  # Convert to percentage\n",
    "        return round(volatility, 2)\n",
    "    return None\n",
    "\n",
    "def calculate_rsi(data, period=14):\n",
    "    \"\"\"Calculate the Relative Strength Index (RSI).\"\"\"\n",
    "    delta = data['Close'].diff()\n",
    "    gain = (delta.where(delta > 0, 0)).rolling(window=period).mean()\n",
    "    loss = (-delta.where(delta < 0, 0)).rolling(window=period).mean()\n",
    "    rs = gain / loss\n",
    "    rsi = 100 - (100 / (1 + rs))\n",
    "    return round(rsi.iloc[-1], 2) if not rsi.isna().iloc[-1] else None\n",
    "\n",
    "def calculate_moving_average(data, period=20):\n",
    "    \"\"\"Calculate the moving average.\"\"\"\n",
    "    if len(data) >= period:\n",
    "        ma = data['Close'].rolling(window=period).mean()\n",
    "        return round(ma.iloc[-1], 2)\n",
    "    return None\n",
    "\n",
    "def calculate_trend(data, window=5):\n",
    "    \"\"\"Calculate short-term trend (uptrend or downtrend).\"\"\"\n",
    "    if len(data) >= window:\n",
    "        recent_prices = data['Close'].iloc[-window:]\n",
    "        return \"Uptrend\" if recent_prices[-1] > recent_prices[0] else \"Downtrend\"\n",
    "    return None\n",
    "\n",
    "# Function to make an investment recommendation\n",
    "def investment_recommendation(volatility, rsi, trend):\n",
    "    \"\"\"Provide a recommendation based on metrics.\"\"\"\n",
    "    if volatility < 2 and rsi < 70 and trend == \"Uptrend\":\n",
    "        return \"Invest (Low Risk)\"\n",
    "    elif rsi > 70:\n",
    "        return \"Wait (Overbought)\"\n",
    "    elif trend == \"Downtrend\":\n",
    "        return \"Wait (Downtrend)\"\n",
    "    else:\n",
    "        return \"Wait (High Volatility)\"\n",
    "\n",
    "# Infinite loop to fetch and analyze data every minute\n",
    "while True:\n",
    "    # Fetch the latest data\n",
    "    data = stock.history(period=\"1d\", interval=\"1m\")\n",
    "    \n",
    "    # Calculate metrics\n",
    "    volatility = calculate_volatility(data)\n",
    "    rsi = calculate_rsi(data)\n",
    "    moving_avg = calculate_moving_average(data)\n",
    "    trend = calculate_trend(data)\n",
    "    \n",
    "    # Display metrics\n",
    "    print(\"\\nReal Time Data of RELIANCE.NS:\")\n",
    "    # print(data.tail())\n",
    "    print(f\"Volatility (Risk %): {volatility}%\")\n",
    "    print(f\"RSI: {rsi}\")\n",
    "    print(f\"Moving Average (20-min): {moving_avg}\")\n",
    "    print(f\"Trend: {trend}\")\n",
    "    \n",
    "    # Investment Recommendation\n",
    "    recommendation = investment_recommendation(volatility, rsi, trend)\n",
    "    print(f\"Investment Recommendation: {recommendation}\")\n",
    "    \n",
    "    print(\"Note : RSI<30 --> Buy  || RSI>70 --> Sell\")\n",
    "    # Save data to CSV (optional)\n",
    "    data.to_csv(\"Reliance.csv\", index=True)\n",
    "    \n",
    "    # Wait for 60 seconds before refreshing\n",
    "    time.sleep(60)\n"
   ]
  },
  {
   "cell_type": "markdown",
   "metadata": {},
   "source": [
    "### daily returns, 50 day moving average, 200 days moving average, exponential moving average, volatility, RSI what happens in next year, fraud(market's heavy volume change), "
   ]
  },
  {
   "cell_type": "code",
   "execution_count": null,
   "metadata": {},
   "outputs": [],
   "source": []
  },
  {
   "cell_type": "code",
   "execution_count": null,
   "metadata": {},
   "outputs": [],
   "source": []
  },
  {
   "cell_type": "code",
   "execution_count": null,
   "metadata": {},
   "outputs": [],
   "source": []
  },
  {
   "cell_type": "code",
   "execution_count": null,
   "metadata": {},
   "outputs": [],
   "source": []
  }
 ],
 "metadata": {
  "kernelspec": {
   "display_name": "Python 3",
   "language": "python",
   "name": "python3"
  },
  "language_info": {
   "name": "python",
   "version": "3.12.2"
  }
 },
 "nbformat": 4,
 "nbformat_minor": 2
}
